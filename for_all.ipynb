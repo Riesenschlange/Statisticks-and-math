{
 "cells": [
  {
   "cell_type": "markdown",
   "metadata": {},
   "source": [
    "## Функция для вычисления размаха"
   ]
  },
  {
   "cell_type": "code",
   "execution_count": 13,
   "metadata": {},
   "outputs": [],
   "source": [
    "from typing import List\n",
    "\n",
    "num_friends = [100, 49, 41, 40, 25]\n",
    "\n",
    "def data_range(xs: List[float]) -> float:\n",
    "    return max(xs) - min (xs)\n",
    "# x = [11, 55, 670, 11]\n",
    "# print(data_range(x))"
   ]
  },
  {
   "cell_type": "markdown",
   "metadata": {},
   "source": [
    "## Вычисление дисперсии"
   ]
  },
  {
   "cell_type": "code",
   "execution_count": 14,
   "metadata": {},
   "outputs": [
    {
     "name": "stdout",
     "output_type": "stream",
     "text": [
      "359.80952380952385\n"
     ]
    }
   ],
   "source": [
    "from math import sqrt\n",
    "\n",
    "num_friends = [12, 23, 45, 33, 65, 54, 54]\n",
    "\n",
    "class Variance:\n",
    "    def define_data_range(self, numbers: List[float]) -> float:\n",
    "        mean = sum(numbers) / len(numbers)\n",
    "        squared_diff_sum = sum((number - mean)**2 for number in numbers)\n",
    "        return squared_diff_sum\n",
    "\n",
    "    def define_variance(self, numbers: List[float]) -> float:\n",
    "        squared_diff_sum = self.define_data_range(numbers)\n",
    "        variance = squared_diff_sum/(len(numbers) - 1)\n",
    "        return variance\n",
    "\n",
    "variance_calculator = Variance()\n",
    "variance = variance_calculator.define_variance(num_friends)\n",
    "print(variance)\n"
   ]
  },
  {
   "cell_type": "markdown",
   "metadata": {},
   "source": [
    "## Вычисление стандартного отклонения"
   ]
  },
  {
   "cell_type": "code",
   "execution_count": 15,
   "metadata": {},
   "outputs": [
    {
     "name": "stdout",
     "output_type": "stream",
     "text": [
      "18.968645808531612\n"
     ]
    }
   ],
   "source": [
    "deviation = Variance()\n",
    "deviation_final = sqrt(deviation.define_variance(num_friends))\n",
    "print(deviation_final)"
   ]
  }
 ],
 "metadata": {
  "kernelspec": {
   "display_name": "venv_for_matan",
   "language": "python",
   "name": "python3"
  },
  "language_info": {
   "codemirror_mode": {
    "name": "ipython",
    "version": 3
   },
   "file_extension": ".py",
   "mimetype": "text/x-python",
   "name": "python",
   "nbconvert_exporter": "python",
   "pygments_lexer": "ipython3",
   "version": "3.12.7"
  }
 },
 "nbformat": 4,
 "nbformat_minor": 2
}
